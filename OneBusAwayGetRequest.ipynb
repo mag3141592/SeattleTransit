{
 "cells": [
  {
   "cell_type": "code",
   "execution_count": 10,
   "metadata": {},
   "outputs": [
    {
     "name": "stdout",
     "output_type": "stream",
     "text": [
      "7662\n"
     ]
    }
   ],
   "source": [
    "##ALL METRO COUNTY STOPS\n",
    "##Agency = 1\n",
    "##Stops = 7662\n",
    "\n",
    "import requests\n",
    "import pandas as pd\n",
    "API_key = \"TEST\"\n",
    "stop_URL = \"http://api.pugetsound.onebusaway.org/api/where/stop-ids-for-agency/1.json?key=\" + API_key\n",
    "\n",
    "# sending get request and saving the response as response object\n",
    "r = requests.get(url = stop_URL)\n",
    "stop_ids = r.json()\n",
    "\n",
    "# list of stops in agency 1\n",
    "king_stops = stop_ids['data']['list']\n",
    "\n",
    "d = {\"Stops\": king_stops}\n",
    "df = pd.DataFrame(data = d)\n",
    "filename = \"king_county_stop_ids.csv\"\n",
    "df.to_csv(filename)\n",
    "\n",
    "print(len(king_stops))"
   ]
  },
  {
   "cell_type": "code",
   "execution_count": 26,
   "metadata": {},
   "outputs": [
    {
     "name": "stdout",
     "output_type": "stream",
     "text": [
      "388\n"
     ]
    }
   ],
   "source": [
    "##ALL STOPS FOR 316, 62, 76, & 26 GREENLAKE ROUTES\n",
    "\n",
    "GreenLake_Routes = ['1_100190', '1_100151', '1_100270', '1_100252'] # 316, 26, 76, and 62\n",
    "\n",
    "import requests\n",
    "import pandas as pd\n",
    "\n",
    "API_key = \"TEST\"\n",
    "URL_part_1 = \"http://api.pugetsound.onebusaway.org/api/where/stops-for-route/\"\n",
    "URL_part_2 = \".json?key=\" + API_key + \"&version=2\"\n",
    "\n",
    "# sending get request and saving the response as response object\n",
    "out = []\n",
    "for x in GreenLake_Routes:\n",
    "    r = requests.get(url = URL_part_1 + x + URL_part_2)\n",
    "    stop_ids = r.json()\n",
    "    out += stop_ids['data']['entry']['stopIds']\n",
    "\n",
    "d = {\"Stops\": out}\n",
    "df = pd.DataFrame(data = d)\n",
    "filename = \"green_lake_stop_ids.csv\"\n",
    "df.to_csv(filename)\n",
    "\n",
    "print(len(out))"
   ]
  },
  {
   "cell_type": "code",
   "execution_count": null,
   "metadata": {},
   "outputs": [
    {
     "name": "stdout",
     "output_type": "stream",
     "text": [
      "388\n"
     ]
    }
   ],
   "source": [
    "##CURRENT ARRIVALS AND DEPARTURES GIVEN A SET OF STOPS\n",
    "\n",
    "import requests\n",
    "import pandas as pd\n",
    "\n",
    "df = pd.read_csv(\"green_lake_stop_ids.csv\")\n",
    "stops = list(df['Stops'])\n",
    "print(len(stops))\n",
    "\n",
    "API_key = \"TEST\"\n",
    "URL_part_1 = \"http://api.pugetsound.onebusaway.org/api/where/arrivals-and-departures-for-stop/\"\n",
    "URL_part_2 = \".json?key=\" + API_key\n",
    "\n",
    "# sending get request and saving the response as response object\n",
    "out = []\n",
    "for x in stops:\n",
    "    r = requests.get(url = URL_part_1 + x + URL_part_2)\n",
    "    stop_a_d = r.json()\n",
    "    if (stop_a_d['data'] is not None):\n",
    "        out += stop_a_d['data']['entry']['arrivalsAndDepartures']\n",
    "\n",
    "# list of stops in agency 1\n",
    "print(len(out))\n",
    "df_2 = pd.DataFrame(data = out)\n",
    "filename = \"stop_a_d.csv\"\n",
    "df_2.to_csv(filename)"
   ]
  }
 ],
 "metadata": {
  "kernelspec": {
   "display_name": "Python 3",
   "language": "python",
   "name": "python3"
  }
 },
 "nbformat": 4,
 "nbformat_minor": 2
}
